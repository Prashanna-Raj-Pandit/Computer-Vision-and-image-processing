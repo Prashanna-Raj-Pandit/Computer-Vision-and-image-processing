{
 "cells": [
  {
   "cell_type": "code",
   "execution_count": 1,
   "metadata": {},
   "outputs": [],
   "source": [
    "import winsound\n",
    "import cv2\n",
    "import numpy as np\n",
    "import matplotlib.pyplot as plt"
   ]
  },
  {
   "cell_type": "code",
   "execution_count": 2,
   "metadata": {},
   "outputs": [],
   "source": [
    "bol=False\n",
    "while True:\n",
    "    \n",
    "    img=cv2.imread('t_light2.JPG')\n",
    "    img=cv2.resize(img,(400,300))\n",
    "    imgHSV=cv2.cvtColor(img,cv2.COLOR_BGR2HSV)\n",
    "\n",
    "    cv2.imshow('original',img)\n",
    "    lower=np.array([0,204,153])\n",
    "    upper=np.array([0,255,255])\n",
    "    mask=cv2.inRange(imgHSV,lower,upper)\n",
    "    mask=cv2.resize(mask,(400,300))\n",
    "    result_img=cv2.bitwise_and(img,img,mask=mask)\n",
    "    cv2.imshow('final_img',result_img)\n",
    "    R =result_img[50,200,2] #BGR format\n",
    "    if R>=200:\n",
    "        winsound.PlaySound('alert.WAV', winsound.SND_ASYNC)\n",
    "        \n",
    "    k=cv2.waitKey(1) &0xFF\n",
    "    if k==27:\n",
    "        break\n",
    "        \n",
    "# cap.release()\n",
    "cv2.destroyAllWindows()"
   ]
  },
  {
   "cell_type": "code",
   "execution_count": 3,
   "metadata": {},
   "outputs": [],
   "source": [
    "B,G,R =result_img[50,200]"
   ]
  },
  {
   "cell_type": "code",
   "execution_count": 4,
   "metadata": {},
   "outputs": [
    {
     "data": {
      "text/plain": [
       "254"
      ]
     },
     "execution_count": 4,
     "metadata": {},
     "output_type": "execute_result"
    }
   ],
   "source": [
    "R"
   ]
  },
  {
   "cell_type": "code",
   "execution_count": 5,
   "metadata": {},
   "outputs": [
    {
     "data": {
      "text/plain": [
       "254"
      ]
     },
     "execution_count": 5,
     "metadata": {},
     "output_type": "execute_result"
    }
   ],
   "source": [
    "Y=result_img[50,200,2]\n",
    "Y"
   ]
  },
  {
   "cell_type": "code",
   "execution_count": null,
   "metadata": {},
   "outputs": [],
   "source": []
  },
  {
   "cell_type": "code",
   "execution_count": 2,
   "metadata": {},
   "outputs": [],
   "source": [
    "y=True"
   ]
  },
  {
   "cell_type": "code",
   "execution_count": 2,
   "metadata": {},
   "outputs": [
    {
     "data": {
      "text/plain": [
       "100"
      ]
     },
     "execution_count": 2,
     "metadata": {},
     "output_type": "execute_result"
    }
   ],
   "source": [
    "y"
   ]
  },
  {
   "cell_type": "code",
   "execution_count": null,
   "metadata": {},
   "outputs": [],
   "source": []
  },
  {
   "cell_type": "code",
   "execution_count": 3,
   "metadata": {},
   "outputs": [],
   "source": [
    "import numpy as np\n",
    "import cv2 as cv\n",
    "cap = cv.VideoCapture(0)\n",
    "# take first frame of the video\n",
    "ret, frame = cap.read()\n",
    "\n",
    "face_cascade=cv.CascadeClassifier('Computer-Vision-with-Python/DATA/haarcascades/haarcascade_frontalface_default.xml')\n",
    "\n",
    "gray = cv.cvtColor(frame, cv.COLOR_BGR2GRAY)\n",
    "blur = cv.GaussianBlur(gray, (5, 5), 0)\n",
    "\n",
    "\n",
    "\n",
    "def stackImages(scale,imgArray):\n",
    "    rows = len(imgArray)\n",
    "    cols = len(imgArray[0])\n",
    "    rowsAvailable = isinstance(imgArray[0], list)\n",
    "    width = imgArray[0][0].shape[1]\n",
    "    height = imgArray[0][0].shape[0]\n",
    "    if rowsAvailable:\n",
    "        for x in range ( 0, rows):\n",
    "            for y in range(0, cols):\n",
    "                if imgArray[x][y].shape[:2] == imgArray[0][0].shape [:2]:\n",
    "                    imgArray[x][y] = cv.resize(imgArray[x][y], (0, 0), None, scale, scale)\n",
    "                else:\n",
    "                    imgArray[x][y] = cv.resize(imgArray[x][y], (imgArray[0][0].shape[1], imgArray[0][0].shape[0]), None, scale, scale)\n",
    "                if len(imgArray[x][y].shape) == 2: imgArray[x][y]= cv.cvtColor( imgArray[x][y], cv.COLOR_GRAY2BGR)\n",
    "        imageBlank = np.zeros((height, width, 3), np.uint8)\n",
    "        hor = [imageBlank]*rows\n",
    "        hor_con = [imageBlank]*rows\n",
    "        for x in range(0, rows):\n",
    "            hor[x] = np.hstack(imgArray[x])\n",
    "        ver = np.vstack(hor)\n",
    "    else:\n",
    "        for x in range(0, rows):\n",
    "            if imgArray[x].shape[:2] == imgArray[0].shape[:2]:\n",
    "                imgArray[x] = cv.resize(imgArray[x], (0, 0), None, scale, scale)\n",
    "            else:\n",
    "                imgArray[x] = cv.resize(imgArray[x], (imgArray[0].shape[1], imgArray[0].shape[0]), None,scale, scale)\n",
    "            if len(imgArray[x].shape) == 2: imgArray[x] = cv.cvtColor(imgArray[x], cv.COLOR_GRAY2BGR)\n",
    "        hor= np.hstack(imgArray)\n",
    "        ver = hor\n",
    "    return ver\n",
    "\n",
    "\n",
    "face_rects=face_cascade.detectMultiScale(blur,1.3,5)\n",
    "\n",
    "\n",
    "# setup initial location of window\n",
    "x, y, width, height = 150, 120, 150, 150\n",
    "\n",
    "#(x,y,width,height)=tuple(face_rects[0])\n",
    "track_window = (x, y ,width, height)\n",
    "\n",
    "# set up the ROI for tracking\n",
    "roi = frame[y:y+height, x : x+width]\n",
    "\n",
    "hsv_roi = cv.cvtColor(roi, cv.COLOR_BGR2HSV)\n",
    "\n",
    "mask = cv.inRange(hsv_roi, np.array((0., 60., 32.)), np.array((180., 255., 255)))\n",
    "roi_hist = cv.calcHist([hsv_roi], [0], mask, [180], [0, 180])\n",
    "cv.normalize(roi_hist, roi_hist, 0, 255,cv.NORM_MINMAX)\n",
    "\n",
    "# Setup the termination criteria, either 10 iteration or move by atleast 1 pt\n",
    "term_crit = ( cv.TERM_CRITERIA_EPS | cv.TERM_CRITERIA_COUNT, 10, 1)\n",
    "#cv.imshow('roi',roi)\n",
    "while(1):\n",
    "    ret, frame = cap.read()\n",
    "    if ret == True:\n",
    "\n",
    "        hsv = cv.cvtColor(frame, cv.COLOR_BGR2HSV)\n",
    "        dst = cv.calcBackProject([hsv], [0], roi_hist, [0, 180], 1)\n",
    "        # apply camshift to get the new location\n",
    "        ret, track_window = cv.CamShift(dst, track_window, term_crit)\n",
    "\n",
    "        # Draw it on image\n",
    "        pts = cv.boxPoints(ret)\n",
    "        #print(pts)\n",
    "        pts = np.int0(pts)\n",
    "        final_image = cv.polylines(frame, [pts], True, (0, 255, 0), 2)\n",
    "        #x,y,w,h = track_window\n",
    "        #final_image = cv.rectangle(frame, (x,y), (x+w, y+h), 255, 3)\n",
    "        imgStacked=stackImages(0.8,([frame,hsv],[frame,final_image]))\n",
    "        cv.imshow('output',imgStacked)\n",
    "        k = cv.waitKey(1) & 0xFF\n",
    "        if k == 27:\n",
    "            break\n",
    "    else:\n",
    "        break\n",
    "        \n",
    "cv.destroyAllWindows()\n",
    "cap.release()"
   ]
  },
  {
   "cell_type": "code",
   "execution_count": null,
   "metadata": {},
   "outputs": [],
   "source": []
  }
 ],
 "metadata": {
  "kernelspec": {
   "display_name": "Python 3",
   "language": "python",
   "name": "python3"
  },
  "language_info": {
   "codemirror_mode": {
    "name": "ipython",
    "version": 3
   },
   "file_extension": ".py",
   "mimetype": "text/x-python",
   "name": "python",
   "nbconvert_exporter": "python",
   "pygments_lexer": "ipython3",
   "version": "3.6.6"
  }
 },
 "nbformat": 4,
 "nbformat_minor": 2
}
