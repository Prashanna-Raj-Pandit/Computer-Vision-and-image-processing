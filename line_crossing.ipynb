{
 "cells": [
  {
   "cell_type": "code",
   "execution_count": 1,
   "metadata": {},
   "outputs": [
    {
     "name": "stdout",
     "output_type": "stream",
     "text": [
      "[[131, 226, 131, 35], [117, 224, 117, 37]]\n"
     ]
    }
   ],
   "source": [
    "import cv2\n",
    "import numpy as np\n",
    "\n",
    "gray = cv2.imread('line.png')\n",
    "edges = cv2.Canny(gray,50,150,apertureSize = 3)\n",
    "minLineLength=100\n",
    "lines = cv2.HoughLinesP(image=edges,rho=1,theta=np.pi/180, threshold=100,lines=np.array([]), minLineLength=minLineLength,maxLineGap=80)\n",
    "\n",
    "vlines = []\n",
    "hlines = []\n",
    "final_lines = []\n",
    "\n",
    "a,b,c = lines.shape\n",
    "for i in range(a):\n",
    "    if abs(lines[i][0][1] - lines[i][0][3]) < b / 100:\n",
    "        # print(\"horizental\")\n",
    "        hlines.append(lines[i][0].tolist())\n",
    "    else:\n",
    "        # print(\"vertical\")\n",
    "        vlines.append(lines[i][0].tolist())\n",
    "\n",
    "def ccw(p1,p2,p3):\n",
    "    return (p3[1]-p1[1]) * (p2[0]-p1[0]) > (p2[1]-p1[1]) * (p3[0]-p1[0])\n",
    "# Return true if line segments l1 and l2 intersect\n",
    "def intersect(l1, l2):\n",
    "    return ccw((l1[0], l1[1]), (l2[0], l2[1]),(l2[2], l2[3])) != ccw((l1[2], l1[3]),(l2[0], l2[1]), (l2[2], l2[3])) and ccw((l1[0], l1[1]), (l1[2], l1[3]), (l2[0], l2[1])) != ccw((l1[0], l1[1]), (l1[2], l1[3]), (l2[2], l2[3]))\n",
    "\n",
    "# check intersect of each vertical lines with horizenal lines\n",
    "for vl in vlines:\n",
    "    for hl in hlines:\n",
    "        if intersect(vl, hl):\n",
    "            final_lines.append(vl)\n",
    "            break\n",
    "\n",
    "print(final_lines)\n",
    "for line in final_lines:\n",
    "    cv2.line(gray, (line[0], line[1]), (line[2], line[3]), (0, 0, 255), 3, cv2.LINE_AA)\n",
    "    cv2.imshow('vertical line',gray)\n",
    "    cv2.waitKey()"
   ]
  },
  {
   "cell_type": "code",
   "execution_count": null,
   "metadata": {},
   "outputs": [],
   "source": []
  }
 ],
 "metadata": {
  "kernelspec": {
   "display_name": "Python 3",
   "language": "python",
   "name": "python3"
  },
  "language_info": {
   "codemirror_mode": {
    "name": "ipython",
    "version": 3
   },
   "file_extension": ".py",
   "mimetype": "text/x-python",
   "name": "python",
   "nbconvert_exporter": "python",
   "pygments_lexer": "ipython3",
   "version": "3.6.6"
  }
 },
 "nbformat": 4,
 "nbformat_minor": 2
}
