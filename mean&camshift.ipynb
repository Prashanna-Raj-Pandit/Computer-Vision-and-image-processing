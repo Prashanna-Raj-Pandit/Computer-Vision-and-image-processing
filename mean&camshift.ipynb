{
 "cells": [
  {
   "cell_type": "code",
   "execution_count": 2,
   "metadata": {},
   "outputs": [],
   "source": [
    "import numpy as np\n",
    "import cv2"
   ]
  },
  {
   "cell_type": "code",
   "execution_count": 3,
   "metadata": {},
   "outputs": [],
   "source": [
    "face_cascade=cv2.CascadeClassifier('Computer-Vision-with-Python/DATA/haarcascades/haarcascade_frontalface_default.xml')"
   ]
  },
  {
   "cell_type": "code",
   "execution_count": 5,
   "metadata": {},
   "outputs": [
    {
     "name": "stdout",
     "output_type": "stream",
     "text": [
      "(321, 129, 113, 156)\n"
     ]
    }
   ],
   "source": [
    "cap=cv2.VideoCapture(0)\n",
    "\n",
    "ret,frame=cap.read()\n",
    "\n",
    "# line_start = (100, 100)\n",
    "# line_end = (300, 300)\n",
    "\n",
    "# Convert the frame to grayscale and apply blur\n",
    "#gray = cv2.cvtColor(frame, cv2.COLOR_BGR2GRAY)\n",
    "#gray = cv2.GaussianBlur(gray, (5, 5), 0)\n",
    "\n",
    "face_rects=face_cascade.detectMultiScale(frame)\n",
    "\n",
    "track_window = cv2.selectROI(frame)\n",
    "print(track_window)\n",
    "\n",
    "face_x, face_y, w, h = [int(i) for i in track_window]\n",
    "\n",
    "# (face_x,face_y,w,h)=roi\n",
    "\n",
    "# track_window=(face_x,face_y,w,h)\n",
    "#track_window=face_rects\n",
    "\n",
    "roi=frame[face_y:face_y+h,face_x:face_x+w]\n",
    "\n",
    "hsv_roi=cv2.cvtColor(roi,cv2.COLOR_BGR2HSV)\n",
    "\n",
    "roi_hist=cv2.calcHist([hsv_roi],[0],None,[180],[0,180])\n",
    "\n",
    "cv2.normalize(roi_hist,roi_hist,0,255,cv2.NORM_MINMAX)\n",
    "\n",
    "term_crit=(cv2.TERM_CRITERIA_EPS| cv2.TERM_CRITERIA_COUNT,10,1)\n",
    "\n",
    "while True:\n",
    "    \n",
    "    ret,frame=cap.read()\n",
    "    \n",
    "    if ret==True:\n",
    "        for(x,y,w,h) in face_rects:\n",
    "            cv2.rectangle(frame,(x,y),(x+w,y+h),(255,255,255),10)\n",
    "    \n",
    "        hsv=cv2.cvtColor(frame,cv2.COLOR_BGR2HSV)\n",
    "        \n",
    "        dst=cv2.calcBackProject([hsv],[0],roi_hist,[0,180],1)\n",
    "        \n",
    "        ret,track_window=cv2.CamShift(dst,track_window,term_crit)\n",
    "        pts=cv2.boxPoints(ret)\n",
    "        pts=np.int0(pts)\n",
    "        \n",
    "        ########### polylines is used to draw rotating rectangle\n",
    "        \n",
    "        img2=cv2.polylines(frame,[pts],True,(0,0,255),5)\n",
    "        \n",
    "#         cv2.line(frame, line_start, line_end, (0, 200, 0), 2)\n",
    "\n",
    "        #img2=cv2.rectangle(frame,(face_x,face_y),(face_x+w,face_y+h),(0,0,255),5)\n",
    "        \n",
    "        cv2.imshow('img',img2)\n",
    "        \n",
    "        k=cv2.waitKey(1) & 0xFF\n",
    "        \n",
    "        if k==27:\n",
    "            break\n",
    "            \n",
    "    else:\n",
    "        break\n",
    "        \n",
    "        \n",
    "cv2.destroyAllWindows()\n",
    "cap.release()\n",
    "\n",
    "        "
   ]
  },
  {
   "cell_type": "code",
   "execution_count": 6,
   "metadata": {},
   "outputs": [
    {
     "name": "stdout",
     "output_type": "stream",
     "text": [
      "True\n"
     ]
    }
   ],
   "source": [
    "cap=cv2.VideoCapture(0)\n",
    "\n",
    "ret,frame=cap.read()\n",
    "\n",
    "line_start = (100, 100)\n",
    "line_end = (300, 300)\n",
    "\n",
    "# Convert the frame to grayscale and apply blur\n",
    "gray = cv2.cvtColor(frame, cv2.COLOR_BGR2GRAY)\n",
    "gray = cv2.GaussianBlur(gray, (5, 5), 0)\n",
    "\n",
    "face_rects=face_cascade.detectMultiScale(frame)\n",
    "print(ret)"
   ]
  },
  {
   "cell_type": "code",
   "execution_count": 10,
   "metadata": {},
   "outputs": [
    {
     "data": {
      "text/plain": [
       "()"
      ]
     },
     "execution_count": 10,
     "metadata": {},
     "output_type": "execute_result"
    }
   ],
   "source": [
    "face_rects"
   ]
  },
  {
   "cell_type": "code",
   "execution_count": 11,
   "metadata": {},
   "outputs": [
    {
     "ename": "IndexError",
     "evalue": "tuple index out of range",
     "output_type": "error",
     "traceback": [
      "\u001b[1;31m---------------------------------------------------------------------------\u001b[0m",
      "\u001b[1;31mIndexError\u001b[0m                                Traceback (most recent call last)",
      "\u001b[1;32m<ipython-input-11-8e5ff741bfba>\u001b[0m in \u001b[0;36m<module>\u001b[1;34m\u001b[0m\n\u001b[1;32m----> 1\u001b[1;33m \u001b[0mface_rects\u001b[0m\u001b[1;33m[\u001b[0m\u001b[1;36m0\u001b[0m\u001b[1;33m]\u001b[0m\u001b[1;33m\u001b[0m\u001b[0m\n\u001b[0m",
      "\u001b[1;31mIndexError\u001b[0m: tuple index out of range"
     ]
    }
   ],
   "source": [
    "face_rects[0]"
   ]
  },
  {
   "cell_type": "code",
   "execution_count": 1,
   "metadata": {},
   "outputs": [],
   "source": [
    "import numpy as np\n",
    "import cv2 as cv\n",
    "cap = cv.VideoCapture('test_video2.mp4')\n",
    "# take first frame of the video\n",
    "ret, frame = cap.read()\n",
    "# setup initial location of window\n",
    "x, y, width, height =185, 506, 40, 73\n",
    "track_window = (x, y ,width, height)\n",
    "# set up the ROI for tracking\n",
    "roi = frame[y:y+height, x : x+width]\n",
    "hsv_roi = cv.cvtColor(roi, cv.COLOR_BGR2HSV)\n",
    "mask = cv.inRange(hsv_roi, np.array((0., 60., 32.)), np.array((180., 255., 255)))\n",
    "roi_hist = cv.calcHist([hsv_roi], [0], mask, [180], [0, 180])\n",
    "cv.normalize(roi_hist, roi_hist, 0, 255,cv.NORM_MINMAX)\n",
    "# Setup the termination criteria, either 10 iteration or move by atleast 1 pt\n",
    "term_crit = ( cv.TERM_CRITERIA_EPS | cv.TERM_CRITERIA_COUNT, 10, 1)\n",
    "cv.imshow('roi',roi)\n",
    "while(1):\n",
    "    ret, frame = cap.read()\n",
    "    if ret == True:\n",
    "\n",
    "        hsv = cv.cvtColor(frame, cv.COLOR_BGR2HSV)\n",
    "        dst = cv.calcBackProject([hsv], [0], roi_hist, [0, 180], 1)\n",
    "        # apply meanshift to get the new location\n",
    "        ret, track_window = cv.CamShift(dst, track_window, term_crit)\n",
    "\n",
    "        # Draw it on image\n",
    "        pts = cv.boxPoints(ret)\n",
    "#         print(pts)\n",
    "        pts = np.int0(pts)\n",
    "        final_image = cv.polylines(frame, [pts], True, (0, 255, 0), 2)\n",
    "        #x,y,w,h = track_window\n",
    "        #final_image = cv.rectangle(frame, (x,y), (x+w, y+h), 255, 3)\n",
    "\n",
    "        cv.imshow('dst', dst)\n",
    "        cv.imshow('final_image',final_image)\n",
    "        k = cv.waitKey(30) & 0xff\n",
    "        if k == 27:\n",
    "            break\n",
    "    else:\n",
    "        break\n",
    "        \n",
    "cv.destroyAllWindows()\n",
    "cap.release()"
   ]
  },
  {
   "cell_type": "code",
   "execution_count": null,
   "metadata": {},
   "outputs": [],
   "source": []
  },
  {
   "cell_type": "code",
   "execution_count": null,
   "metadata": {},
   "outputs": [],
   "source": []
  }
 ],
 "metadata": {
  "kernelspec": {
   "display_name": "Python 3",
   "language": "python",
   "name": "python3"
  },
  "language_info": {
   "codemirror_mode": {
    "name": "ipython",
    "version": 3
   },
   "file_extension": ".py",
   "mimetype": "text/x-python",
   "name": "python",
   "nbconvert_exporter": "python",
   "pygments_lexer": "ipython3",
   "version": "3.6.6"
  }
 },
 "nbformat": 4,
 "nbformat_minor": 2
}
